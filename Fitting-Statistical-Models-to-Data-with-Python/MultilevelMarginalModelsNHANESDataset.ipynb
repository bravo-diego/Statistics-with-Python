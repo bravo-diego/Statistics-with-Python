{
 "cells": [
  {
   "cell_type": "markdown",
   "metadata": {},
   "source": [
    "This notebook will give you the opportunity to perform some analyses using the regression methods for dependent data that we are covering in this week of the course.\n",
    "\n",
    "Enter the code in response to each question in the boxes labeled \"enter your code here\". Then enter your responses to the questions in the boxes labeled \"Type Markdown and Latex\".\n",
    "\n",
    "This notebook is based on the NHANES case study notebook for regression with dependent data.  Most of the code that you will need to write below is very similar to code that appears in the case study notebook.  You will need to edit code from that notebook in small ways to adapt it to the prompts below."
   ]
  },
  {
   "cell_type": "code",
   "execution_count": 1,
   "metadata": {},
   "outputs": [],
   "source": [
    "import numpy as np\n",
    "import pandas as pd\n",
    "import seaborn as sns\n",
    "import statsmodels.api as sm\n",
    "import matplotlib.pyplot as plt # loading libraries"
   ]
  },
  {
   "cell_type": "code",
   "execution_count": 2,
   "metadata": {},
   "outputs": [],
   "source": [
    "path = 'nhanes_2015_2016.csv' # path file\n",
    "df = pd.read_csv(path) # read csv file"
   ]
  },
  {
   "cell_type": "code",
   "execution_count": 3,
   "metadata": {},
   "outputs": [
    {
     "data": {
      "text/html": [
       "<div>\n",
       "<style scoped>\n",
       "    .dataframe tbody tr th:only-of-type {\n",
       "        vertical-align: middle;\n",
       "    }\n",
       "\n",
       "    .dataframe tbody tr th {\n",
       "        vertical-align: top;\n",
       "    }\n",
       "\n",
       "    .dataframe thead th {\n",
       "        text-align: right;\n",
       "    }\n",
       "</style>\n",
       "<table border=\"1\" class=\"dataframe\">\n",
       "  <thead>\n",
       "    <tr style=\"text-align: right;\">\n",
       "      <th></th>\n",
       "      <th>SEQN</th>\n",
       "      <th>ALQ101</th>\n",
       "      <th>ALQ110</th>\n",
       "      <th>ALQ130</th>\n",
       "      <th>SMQ020</th>\n",
       "      <th>RIAGENDR</th>\n",
       "      <th>RIDAGEYR</th>\n",
       "      <th>RIDRETH1</th>\n",
       "      <th>DMDCITZN</th>\n",
       "      <th>DMDEDUC2</th>\n",
       "      <th>...</th>\n",
       "      <th>BPXSY2</th>\n",
       "      <th>BPXDI2</th>\n",
       "      <th>BMXWT</th>\n",
       "      <th>BMXHT</th>\n",
       "      <th>BMXBMI</th>\n",
       "      <th>BMXLEG</th>\n",
       "      <th>BMXARML</th>\n",
       "      <th>BMXARMC</th>\n",
       "      <th>BMXWAIST</th>\n",
       "      <th>HIQ210</th>\n",
       "    </tr>\n",
       "  </thead>\n",
       "  <tbody>\n",
       "    <tr>\n",
       "      <th>0</th>\n",
       "      <td>83732</td>\n",
       "      <td>1.0</td>\n",
       "      <td>NaN</td>\n",
       "      <td>1.0</td>\n",
       "      <td>1</td>\n",
       "      <td>1</td>\n",
       "      <td>62</td>\n",
       "      <td>3</td>\n",
       "      <td>1.0</td>\n",
       "      <td>5.0</td>\n",
       "      <td>...</td>\n",
       "      <td>124.0</td>\n",
       "      <td>64.0</td>\n",
       "      <td>94.8</td>\n",
       "      <td>184.5</td>\n",
       "      <td>27.8</td>\n",
       "      <td>43.3</td>\n",
       "      <td>43.6</td>\n",
       "      <td>35.9</td>\n",
       "      <td>101.1</td>\n",
       "      <td>2.0</td>\n",
       "    </tr>\n",
       "    <tr>\n",
       "      <th>1</th>\n",
       "      <td>83733</td>\n",
       "      <td>1.0</td>\n",
       "      <td>NaN</td>\n",
       "      <td>6.0</td>\n",
       "      <td>1</td>\n",
       "      <td>1</td>\n",
       "      <td>53</td>\n",
       "      <td>3</td>\n",
       "      <td>2.0</td>\n",
       "      <td>3.0</td>\n",
       "      <td>...</td>\n",
       "      <td>140.0</td>\n",
       "      <td>88.0</td>\n",
       "      <td>90.4</td>\n",
       "      <td>171.4</td>\n",
       "      <td>30.8</td>\n",
       "      <td>38.0</td>\n",
       "      <td>40.0</td>\n",
       "      <td>33.2</td>\n",
       "      <td>107.9</td>\n",
       "      <td>NaN</td>\n",
       "    </tr>\n",
       "    <tr>\n",
       "      <th>2</th>\n",
       "      <td>83734</td>\n",
       "      <td>1.0</td>\n",
       "      <td>NaN</td>\n",
       "      <td>NaN</td>\n",
       "      <td>1</td>\n",
       "      <td>1</td>\n",
       "      <td>78</td>\n",
       "      <td>3</td>\n",
       "      <td>1.0</td>\n",
       "      <td>3.0</td>\n",
       "      <td>...</td>\n",
       "      <td>132.0</td>\n",
       "      <td>44.0</td>\n",
       "      <td>83.4</td>\n",
       "      <td>170.1</td>\n",
       "      <td>28.8</td>\n",
       "      <td>35.6</td>\n",
       "      <td>37.0</td>\n",
       "      <td>31.0</td>\n",
       "      <td>116.5</td>\n",
       "      <td>2.0</td>\n",
       "    </tr>\n",
       "    <tr>\n",
       "      <th>3</th>\n",
       "      <td>83735</td>\n",
       "      <td>2.0</td>\n",
       "      <td>1.0</td>\n",
       "      <td>1.0</td>\n",
       "      <td>2</td>\n",
       "      <td>2</td>\n",
       "      <td>56</td>\n",
       "      <td>3</td>\n",
       "      <td>1.0</td>\n",
       "      <td>5.0</td>\n",
       "      <td>...</td>\n",
       "      <td>134.0</td>\n",
       "      <td>68.0</td>\n",
       "      <td>109.8</td>\n",
       "      <td>160.9</td>\n",
       "      <td>42.4</td>\n",
       "      <td>38.5</td>\n",
       "      <td>37.7</td>\n",
       "      <td>38.3</td>\n",
       "      <td>110.1</td>\n",
       "      <td>2.0</td>\n",
       "    </tr>\n",
       "    <tr>\n",
       "      <th>4</th>\n",
       "      <td>83736</td>\n",
       "      <td>2.0</td>\n",
       "      <td>1.0</td>\n",
       "      <td>1.0</td>\n",
       "      <td>2</td>\n",
       "      <td>2</td>\n",
       "      <td>42</td>\n",
       "      <td>4</td>\n",
       "      <td>1.0</td>\n",
       "      <td>4.0</td>\n",
       "      <td>...</td>\n",
       "      <td>114.0</td>\n",
       "      <td>54.0</td>\n",
       "      <td>55.2</td>\n",
       "      <td>164.9</td>\n",
       "      <td>20.3</td>\n",
       "      <td>37.4</td>\n",
       "      <td>36.0</td>\n",
       "      <td>27.2</td>\n",
       "      <td>80.4</td>\n",
       "      <td>2.0</td>\n",
       "    </tr>\n",
       "  </tbody>\n",
       "</table>\n",
       "<p>5 rows × 28 columns</p>\n",
       "</div>"
      ],
      "text/plain": [
       "    SEQN  ALQ101  ALQ110  ALQ130  SMQ020  RIAGENDR  RIDAGEYR  RIDRETH1  \\\n",
       "0  83732     1.0     NaN     1.0       1         1        62         3   \n",
       "1  83733     1.0     NaN     6.0       1         1        53         3   \n",
       "2  83734     1.0     NaN     NaN       1         1        78         3   \n",
       "3  83735     2.0     1.0     1.0       2         2        56         3   \n",
       "4  83736     2.0     1.0     1.0       2         2        42         4   \n",
       "\n",
       "   DMDCITZN  DMDEDUC2  ...  BPXSY2  BPXDI2  BMXWT  BMXHT  BMXBMI  BMXLEG  \\\n",
       "0       1.0       5.0  ...   124.0    64.0   94.8  184.5    27.8    43.3   \n",
       "1       2.0       3.0  ...   140.0    88.0   90.4  171.4    30.8    38.0   \n",
       "2       1.0       3.0  ...   132.0    44.0   83.4  170.1    28.8    35.6   \n",
       "3       1.0       5.0  ...   134.0    68.0  109.8  160.9    42.4    38.5   \n",
       "4       1.0       4.0  ...   114.0    54.0   55.2  164.9    20.3    37.4   \n",
       "\n",
       "   BMXARML  BMXARMC  BMXWAIST  HIQ210  \n",
       "0     43.6     35.9     101.1     2.0  \n",
       "1     40.0     33.2     107.9     NaN  \n",
       "2     37.0     31.0     116.5     2.0  \n",
       "3     37.7     38.3     110.1     2.0  \n",
       "4     36.0     27.2      80.4     2.0  \n",
       "\n",
       "[5 rows x 28 columns]"
      ]
     },
     "execution_count": 3,
     "metadata": {},
     "output_type": "execute_result"
    }
   ],
   "source": [
    "df.head() # data preview"
   ]
  },
  {
   "cell_type": "code",
   "execution_count": 5,
   "metadata": {},
   "outputs": [
    {
     "data": {
      "text/plain": [
       "Index(['SEQN', 'ALQ101', 'ALQ110', 'ALQ130', 'SMQ020', 'RIAGENDR', 'RIDAGEYR',\n",
       "       'RIDRETH1', 'DMDCITZN', 'DMDEDUC2', 'DMDMARTL', 'DMDHHSIZ', 'WTINT2YR',\n",
       "       'SDMVPSU', 'SDMVSTRA', 'INDFMPIR', 'BPXSY1', 'BPXDI1', 'BPXSY2',\n",
       "       'BPXDI2', 'BMXWT', 'BMXHT', 'BMXBMI', 'BMXLEG', 'BMXARML', 'BMXARMC',\n",
       "       'BMXWAIST', 'HIQ210'],\n",
       "      dtype='object')"
      ]
     },
     "execution_count": 5,
     "metadata": {},
     "output_type": "execute_result"
    }
   ],
   "source": [
    "df.keys() # column names"
   ]
  },
  {
   "cell_type": "code",
   "execution_count": 6,
   "metadata": {},
   "outputs": [],
   "source": [
    "cols = ['BPXSY1', 'BPXDI1', 'RIDAGEYR', 'RIAGENDR', 'RIDRETH1', \n",
    "        'DMDEDUC2', 'BMXBMI', 'SMQ020', 'SDMVSTRA', 'SDMVPSU'] # unused columns\n",
    "\n",
    "df = df[cols].dropna() # drop unused columns and drop missing values"
   ]
  },
  {
   "cell_type": "code",
   "execution_count": null,
   "metadata": {},
   "outputs": [],
   "source": [
    "df['group'] = 10*da.SDMVSTRA + da.SDMVPSU # how a cluster is defined "
   ]
  },
  {
   "cell_type": "markdown",
   "metadata": {},
   "source": [
    "### Question 1.\n",
    "\n",
    "Build a marginal linear model for the first measurement of diastolic blood pressure (`BPXDI1`), using GEE to account for the grouping variable 'group' defined above.  This initial model should have no covariates, and will be used to assess the ICC of this blood pressure measure."
   ]
  },
  {
   "cell_type": "markdown",
   "metadata": {},
   "source": [
    "#### GEE Model: Diastolic Blood Pressure as Outcome"
   ]
  },
  {
   "cell_type": "code",
   "execution_count": 12,
   "metadata": {},
   "outputs": [
    {
     "data": {
      "text/html": [
       "<table class=\"simpletable\">\n",
       "<caption>GEE Regression Results</caption>\n",
       "<tr>\n",
       "  <th>Dep. Variable:</th>               <td>BPXDI1</td>        <th>  No. Observations:  </th>   <td>5102</td>  \n",
       "</tr>\n",
       "<tr>\n",
       "  <th>Model:</th>                         <td>GEE</td>         <th>  No. clusters:      </th>    <td>30</td>   \n",
       "</tr>\n",
       "<tr>\n",
       "  <th>Method:</th>                    <td>Generalized</td>     <th>  Min. cluster size: </th>    <td>106</td>  \n",
       "</tr>\n",
       "<tr>\n",
       "  <th></th>                      <td>Estimating Equations</td> <th>  Max. cluster size: </th>    <td>226</td>  \n",
       "</tr>\n",
       "<tr>\n",
       "  <th>Family:</th>                     <td>Gaussian</td>       <th>  Mean cluster size: </th>   <td>170.1</td> \n",
       "</tr>\n",
       "<tr>\n",
       "  <th>Dependence structure:</th>     <td>Exchangeable</td>     <th>  Num. iterations:   </th>     <td>5</td>   \n",
       "</tr>\n",
       "<tr>\n",
       "  <th>Date:</th>                   <td>Fri, 08 Nov 2024</td>   <th>  Scale:             </th>  <td>162.315</td>\n",
       "</tr>\n",
       "<tr>\n",
       "  <th>Covariance type: </th>            <td>robust</td>        <th>  Time:              </th> <td>19:16:13</td>\n",
       "</tr>\n",
       "</table>\n",
       "<table class=\"simpletable\">\n",
       "<tr>\n",
       "      <td></td>         <th>coef</th>     <th>std err</th>      <th>z</th>      <th>P>|z|</th>  <th>[0.025</th>    <th>0.975]</th>  \n",
       "</tr>\n",
       "<tr>\n",
       "  <th>Intercept</th> <td>   70.0088</td> <td>    0.419</td> <td>  167.219</td> <td> 0.000</td> <td>   69.188</td> <td>   70.829</td>\n",
       "</tr>\n",
       "</table>\n",
       "<table class=\"simpletable\">\n",
       "<tr>\n",
       "  <th>Skew:</th>          <td>     -0.6467</td> <th>  Kurtosis:          </th> <td>      3.8275</td>\n",
       "</tr>\n",
       "<tr>\n",
       "  <th>Centered skew:</th> <td>     -0.6299</td> <th>  Centered kurtosis: </th> <td>      3.8513</td>\n",
       "</tr>\n",
       "</table>"
      ],
      "text/latex": [
       "\\begin{center}\n",
       "\\begin{tabular}{lclc}\n",
       "\\toprule\n",
       "\\textbf{Dep. Variable:}        &        BPXDI1        & \\textbf{  No. Observations:  } &     5102      \\\\\n",
       "\\textbf{Model:}                &         GEE          & \\textbf{  No. clusters:      } &      30       \\\\\n",
       "\\textbf{Method:}               &     Generalized      & \\textbf{  Min. cluster size: } &     106       \\\\\n",
       "\\textbf{}                      & Estimating Equations & \\textbf{  Max. cluster size: } &     226       \\\\\n",
       "\\textbf{Family:}               &       Gaussian       & \\textbf{  Mean cluster size: } &    170.1      \\\\\n",
       "\\textbf{Dependence structure:} &     Exchangeable     & \\textbf{  Num. iterations:   } &      5        \\\\\n",
       "\\textbf{Date:}                 &   Fri, 08 Nov 2024   & \\textbf{  Scale:             } &   162.315     \\\\\n",
       "\\textbf{Covariance type: }     &        robust        & \\textbf{  Time:              } &   19:16:13    \\\\\n",
       "\\bottomrule\n",
       "\\end{tabular}\n",
       "\\begin{tabular}{lcccccc}\n",
       "                   & \\textbf{coef} & \\textbf{std err} & \\textbf{z} & \\textbf{P$> |$z$|$} & \\textbf{[0.025} & \\textbf{0.975]}  \\\\\n",
       "\\midrule\n",
       "\\textbf{Intercept} &      70.0088  &        0.419     &   167.219  &         0.000        &       69.188    &       70.829     \\\\\n",
       "\\bottomrule\n",
       "\\end{tabular}\n",
       "\\begin{tabular}{lclc}\n",
       "\\textbf{Skew:}          &      -0.6467 & \\textbf{  Kurtosis:          } &       3.8275  \\\\\n",
       "\\textbf{Centered skew:} &      -0.6299 & \\textbf{  Centered kurtosis: } &       3.8513  \\\\\n",
       "\\bottomrule\n",
       "\\end{tabular}\n",
       "%\\caption{GEE Regression Results}\n",
       "\\end{center}"
      ],
      "text/plain": [
       "<class 'statsmodels.iolib.summary.Summary'>\n",
       "\"\"\"\n",
       "                               GEE Regression Results                              \n",
       "===================================================================================\n",
       "Dep. Variable:                      BPXDI1   No. Observations:                 5102\n",
       "Model:                                 GEE   No. clusters:                       30\n",
       "Method:                        Generalized   Min. cluster size:                 106\n",
       "                      Estimating Equations   Max. cluster size:                 226\n",
       "Family:                           Gaussian   Mean cluster size:               170.1\n",
       "Dependence structure:         Exchangeable   Num. iterations:                     5\n",
       "Date:                     Fri, 08 Nov 2024   Scale:                         162.315\n",
       "Covariance type:                    robust   Time:                         19:16:13\n",
       "==============================================================================\n",
       "                 coef    std err          z      P>|z|      [0.025      0.975]\n",
       "------------------------------------------------------------------------------\n",
       "Intercept     70.0088      0.419    167.219      0.000      69.188      70.829\n",
       "==============================================================================\n",
       "Skew:                         -0.6467   Kurtosis:                       3.8275\n",
       "Centered skew:                -0.6299   Centered kurtosis:              3.8513\n",
       "==============================================================================\n",
       "\"\"\""
      ]
     },
     "execution_count": 12,
     "metadata": {},
     "output_type": "execute_result"
    }
   ],
   "source": [
    "dbp_gee_model = sm.GEE.from_formula('BPXDI1 ~ 1', 'group', cov_struct = sm.cov_struct.Exchangeable(), \n",
    "                         data = df) # ~ 1 indicates that the model only includes an intercept term\n",
    "dbp_gee_model_results = dbp_gee_model.fit() # estimate model parameters\n",
    "dbp_gee_model_results.summary()"
   ]
  },
  {
   "cell_type": "markdown",
   "metadata": {},
   "source": [
    "#### GEE Model: Systolic Blood Pressure as Outcome"
   ]
  },
  {
   "cell_type": "code",
   "execution_count": 13,
   "metadata": {},
   "outputs": [
    {
     "data": {
      "text/html": [
       "<table class=\"simpletable\">\n",
       "<caption>GEE Regression Results</caption>\n",
       "<tr>\n",
       "  <th>Dep. Variable:</th>               <td>BPXSY1</td>        <th>  No. Observations:  </th>   <td>5102</td>  \n",
       "</tr>\n",
       "<tr>\n",
       "  <th>Model:</th>                         <td>GEE</td>         <th>  No. clusters:      </th>    <td>30</td>   \n",
       "</tr>\n",
       "<tr>\n",
       "  <th>Method:</th>                    <td>Generalized</td>     <th>  Min. cluster size: </th>    <td>106</td>  \n",
       "</tr>\n",
       "<tr>\n",
       "  <th></th>                      <td>Estimating Equations</td> <th>  Max. cluster size: </th>    <td>226</td>  \n",
       "</tr>\n",
       "<tr>\n",
       "  <th>Family:</th>                     <td>Gaussian</td>       <th>  Mean cluster size: </th>   <td>170.1</td> \n",
       "</tr>\n",
       "<tr>\n",
       "  <th>Dependence structure:</th>     <td>Exchangeable</td>     <th>  Num. iterations:   </th>     <td>6</td>   \n",
       "</tr>\n",
       "<tr>\n",
       "  <th>Date:</th>                   <td>Fri, 08 Nov 2024</td>   <th>  Scale:             </th>  <td>341.838</td>\n",
       "</tr>\n",
       "<tr>\n",
       "  <th>Covariance type: </th>            <td>robust</td>        <th>  Time:              </th> <td>19:16:36</td>\n",
       "</tr>\n",
       "</table>\n",
       "<table class=\"simpletable\">\n",
       "<tr>\n",
       "      <td></td>         <th>coef</th>     <th>std err</th>      <th>z</th>      <th>P>|z|</th>  <th>[0.025</th>    <th>0.975]</th>  \n",
       "</tr>\n",
       "<tr>\n",
       "  <th>Intercept</th> <td>  125.3352</td> <td>    0.615</td> <td>  203.894</td> <td> 0.000</td> <td>  124.130</td> <td>  126.540</td>\n",
       "</tr>\n",
       "</table>\n",
       "<table class=\"simpletable\">\n",
       "<tr>\n",
       "  <th>Skew:</th>          <td>      0.9922</td> <th>  Kurtosis:          </th> <td>      1.7588</td>\n",
       "</tr>\n",
       "<tr>\n",
       "  <th>Centered skew:</th> <td>      0.9683</td> <th>  Centered kurtosis: </th> <td>      1.6972</td>\n",
       "</tr>\n",
       "</table>"
      ],
      "text/latex": [
       "\\begin{center}\n",
       "\\begin{tabular}{lclc}\n",
       "\\toprule\n",
       "\\textbf{Dep. Variable:}        &        BPXSY1        & \\textbf{  No. Observations:  } &     5102      \\\\\n",
       "\\textbf{Model:}                &         GEE          & \\textbf{  No. clusters:      } &      30       \\\\\n",
       "\\textbf{Method:}               &     Generalized      & \\textbf{  Min. cluster size: } &     106       \\\\\n",
       "\\textbf{}                      & Estimating Equations & \\textbf{  Max. cluster size: } &     226       \\\\\n",
       "\\textbf{Family:}               &       Gaussian       & \\textbf{  Mean cluster size: } &    170.1      \\\\\n",
       "\\textbf{Dependence structure:} &     Exchangeable     & \\textbf{  Num. iterations:   } &      6        \\\\\n",
       "\\textbf{Date:}                 &   Fri, 08 Nov 2024   & \\textbf{  Scale:             } &   341.838     \\\\\n",
       "\\textbf{Covariance type: }     &        robust        & \\textbf{  Time:              } &   19:16:36    \\\\\n",
       "\\bottomrule\n",
       "\\end{tabular}\n",
       "\\begin{tabular}{lcccccc}\n",
       "                   & \\textbf{coef} & \\textbf{std err} & \\textbf{z} & \\textbf{P$> |$z$|$} & \\textbf{[0.025} & \\textbf{0.975]}  \\\\\n",
       "\\midrule\n",
       "\\textbf{Intercept} &     125.3352  &        0.615     &   203.894  &         0.000        &      124.130    &      126.540     \\\\\n",
       "\\bottomrule\n",
       "\\end{tabular}\n",
       "\\begin{tabular}{lclc}\n",
       "\\textbf{Skew:}          &       0.9922 & \\textbf{  Kurtosis:          } &       1.7588  \\\\\n",
       "\\textbf{Centered skew:} &       0.9683 & \\textbf{  Centered kurtosis: } &       1.6972  \\\\\n",
       "\\bottomrule\n",
       "\\end{tabular}\n",
       "%\\caption{GEE Regression Results}\n",
       "\\end{center}"
      ],
      "text/plain": [
       "<class 'statsmodels.iolib.summary.Summary'>\n",
       "\"\"\"\n",
       "                               GEE Regression Results                              \n",
       "===================================================================================\n",
       "Dep. Variable:                      BPXSY1   No. Observations:                 5102\n",
       "Model:                                 GEE   No. clusters:                       30\n",
       "Method:                        Generalized   Min. cluster size:                 106\n",
       "                      Estimating Equations   Max. cluster size:                 226\n",
       "Family:                           Gaussian   Mean cluster size:               170.1\n",
       "Dependence structure:         Exchangeable   Num. iterations:                     6\n",
       "Date:                     Fri, 08 Nov 2024   Scale:                         341.838\n",
       "Covariance type:                    robust   Time:                         19:16:36\n",
       "==============================================================================\n",
       "                 coef    std err          z      P>|z|      [0.025      0.975]\n",
       "------------------------------------------------------------------------------\n",
       "Intercept    125.3352      0.615    203.894      0.000     124.130     126.540\n",
       "==============================================================================\n",
       "Skew:                          0.9922   Kurtosis:                       1.7588\n",
       "Centered skew:                 0.9683   Centered kurtosis:              1.6972\n",
       "==============================================================================\n",
       "\"\"\""
      ]
     },
     "execution_count": 13,
     "metadata": {},
     "output_type": "execute_result"
    }
   ],
   "source": [
    "sbp_gee_model = sm.GEE.from_formula('BPXSY1 ~ 1', 'group', cov_struct = sm.cov_struct.Exchangeable(), \n",
    "                         data = df) # ~ 1 indicates that the model only includes an intercept term\n",
    "sbp_gee_model_results = sbp_gee_model.fit() # estimate model parameters\n",
    "sbp_gee_model_results.summary()"
   ]
  },
  {
   "cell_type": "markdown",
   "metadata": {},
   "source": [
    "__Q1a.__ What is the ICC for diastolic blood pressure?  What can you\n",
    "  conclude by comparing it to the ICC for systolic blood pressure?"
   ]
  },
  {
   "cell_type": "code",
   "execution_count": 14,
   "metadata": {},
   "outputs": [
    {
     "name": "stdout",
     "output_type": "stream",
     "text": [
      "The correlation between two observations in the same cluster is 0.031\n",
      "The correlation between two observations in the same cluster is 0.030\n"
     ]
    }
   ],
   "source": [
    "print(dbp_gee_model_results.cov_struct.summary())\n",
    "print(sbp_gee_model_results.cov_struct.summary())"
   ]
  },
  {
   "cell_type": "markdown",
   "metadata": {},
   "source": [
    "ICC values for diastolic and systolic blood pressure are quite similar (around 3% of the variance is between groups)."
   ]
  },
  {
   "cell_type": "markdown",
   "metadata": {},
   "source": [
    "### Question 2.\n",
    "\n",
    "Take your model from question 1, and add sex, age, and BMI to it as covariates."
   ]
  },
  {
   "cell_type": "code",
   "execution_count": 15,
   "metadata": {},
   "outputs": [
    {
     "data": {
      "text/html": [
       "<table class=\"simpletable\">\n",
       "<caption>GEE Regression Results</caption>\n",
       "<tr>\n",
       "  <th>Dep. Variable:</th>               <td>BPXDI1</td>        <th>  No. Observations:  </th>   <td>5102</td>  \n",
       "</tr>\n",
       "<tr>\n",
       "  <th>Model:</th>                         <td>GEE</td>         <th>  No. clusters:      </th>    <td>30</td>   \n",
       "</tr>\n",
       "<tr>\n",
       "  <th>Method:</th>                    <td>Generalized</td>     <th>  Min. cluster size: </th>    <td>106</td>  \n",
       "</tr>\n",
       "<tr>\n",
       "  <th></th>                      <td>Estimating Equations</td> <th>  Max. cluster size: </th>    <td>226</td>  \n",
       "</tr>\n",
       "<tr>\n",
       "  <th>Family:</th>                     <td>Gaussian</td>       <th>  Mean cluster size: </th>   <td>170.1</td> \n",
       "</tr>\n",
       "<tr>\n",
       "  <th>Dependence structure:</th>     <td>Exchangeable</td>     <th>  Num. iterations:   </th>     <td>7</td>   \n",
       "</tr>\n",
       "<tr>\n",
       "  <th>Date:</th>                   <td>Fri, 08 Nov 2024</td>   <th>  Scale:             </th>  <td>158.611</td>\n",
       "</tr>\n",
       "<tr>\n",
       "  <th>Covariance type: </th>            <td>robust</td>        <th>  Time:              </th> <td>19:20:23</td>\n",
       "</tr>\n",
       "</table>\n",
       "<table class=\"simpletable\">\n",
       "<tr>\n",
       "      <td></td>         <th>coef</th>     <th>std err</th>      <th>z</th>      <th>P>|z|</th>  <th>[0.025</th>    <th>0.975]</th>  \n",
       "</tr>\n",
       "<tr>\n",
       "  <th>Intercept</th> <td>   70.7858</td> <td>    1.098</td> <td>   64.489</td> <td> 0.000</td> <td>   68.634</td> <td>   72.937</td>\n",
       "</tr>\n",
       "<tr>\n",
       "  <th>RIAGENDR</th>  <td>   -2.7422</td> <td>    0.402</td> <td>   -6.828</td> <td> 0.000</td> <td>   -3.529</td> <td>   -1.955</td>\n",
       "</tr>\n",
       "<tr>\n",
       "  <th>RIDAGEYR</th>  <td>   -0.0409</td> <td>    0.014</td> <td>   -2.845</td> <td> 0.004</td> <td>   -0.069</td> <td>   -0.013</td>\n",
       "</tr>\n",
       "<tr>\n",
       "  <th>BMXBMI</th>    <td>    0.1839</td> <td>    0.030</td> <td>    6.218</td> <td> 0.000</td> <td>    0.126</td> <td>    0.242</td>\n",
       "</tr>\n",
       "</table>\n",
       "<table class=\"simpletable\">\n",
       "<tr>\n",
       "  <th>Skew:</th>          <td>     -0.6865</td> <th>  Kurtosis:          </th> <td>      3.9310</td>\n",
       "</tr>\n",
       "<tr>\n",
       "  <th>Centered skew:</th> <td>     -0.6664</td> <th>  Centered kurtosis: </th> <td>      3.9656</td>\n",
       "</tr>\n",
       "</table>"
      ],
      "text/latex": [
       "\\begin{center}\n",
       "\\begin{tabular}{lclc}\n",
       "\\toprule\n",
       "\\textbf{Dep. Variable:}        &        BPXDI1        & \\textbf{  No. Observations:  } &     5102      \\\\\n",
       "\\textbf{Model:}                &         GEE          & \\textbf{  No. clusters:      } &      30       \\\\\n",
       "\\textbf{Method:}               &     Generalized      & \\textbf{  Min. cluster size: } &     106       \\\\\n",
       "\\textbf{}                      & Estimating Equations & \\textbf{  Max. cluster size: } &     226       \\\\\n",
       "\\textbf{Family:}               &       Gaussian       & \\textbf{  Mean cluster size: } &    170.1      \\\\\n",
       "\\textbf{Dependence structure:} &     Exchangeable     & \\textbf{  Num. iterations:   } &      7        \\\\\n",
       "\\textbf{Date:}                 &   Fri, 08 Nov 2024   & \\textbf{  Scale:             } &   158.611     \\\\\n",
       "\\textbf{Covariance type: }     &        robust        & \\textbf{  Time:              } &   19:20:23    \\\\\n",
       "\\bottomrule\n",
       "\\end{tabular}\n",
       "\\begin{tabular}{lcccccc}\n",
       "                   & \\textbf{coef} & \\textbf{std err} & \\textbf{z} & \\textbf{P$> |$z$|$} & \\textbf{[0.025} & \\textbf{0.975]}  \\\\\n",
       "\\midrule\n",
       "\\textbf{Intercept} &      70.7858  &        1.098     &    64.489  &         0.000        &       68.634    &       72.937     \\\\\n",
       "\\textbf{RIAGENDR}  &      -2.7422  &        0.402     &    -6.828  &         0.000        &       -3.529    &       -1.955     \\\\\n",
       "\\textbf{RIDAGEYR}  &      -0.0409  &        0.014     &    -2.845  &         0.004        &       -0.069    &       -0.013     \\\\\n",
       "\\textbf{BMXBMI}    &       0.1839  &        0.030     &     6.218  &         0.000        &        0.126    &        0.242     \\\\\n",
       "\\bottomrule\n",
       "\\end{tabular}\n",
       "\\begin{tabular}{lclc}\n",
       "\\textbf{Skew:}          &      -0.6865 & \\textbf{  Kurtosis:          } &       3.9310  \\\\\n",
       "\\textbf{Centered skew:} &      -0.6664 & \\textbf{  Centered kurtosis: } &       3.9656  \\\\\n",
       "\\bottomrule\n",
       "\\end{tabular}\n",
       "%\\caption{GEE Regression Results}\n",
       "\\end{center}"
      ],
      "text/plain": [
       "<class 'statsmodels.iolib.summary.Summary'>\n",
       "\"\"\"\n",
       "                               GEE Regression Results                              \n",
       "===================================================================================\n",
       "Dep. Variable:                      BPXDI1   No. Observations:                 5102\n",
       "Model:                                 GEE   No. clusters:                       30\n",
       "Method:                        Generalized   Min. cluster size:                 106\n",
       "                      Estimating Equations   Max. cluster size:                 226\n",
       "Family:                           Gaussian   Mean cluster size:               170.1\n",
       "Dependence structure:         Exchangeable   Num. iterations:                     7\n",
       "Date:                     Fri, 08 Nov 2024   Scale:                         158.611\n",
       "Covariance type:                    robust   Time:                         19:20:23\n",
       "==============================================================================\n",
       "                 coef    std err          z      P>|z|      [0.025      0.975]\n",
       "------------------------------------------------------------------------------\n",
       "Intercept     70.7858      1.098     64.489      0.000      68.634      72.937\n",
       "RIAGENDR      -2.7422      0.402     -6.828      0.000      -3.529      -1.955\n",
       "RIDAGEYR      -0.0409      0.014     -2.845      0.004      -0.069      -0.013\n",
       "BMXBMI         0.1839      0.030      6.218      0.000       0.126       0.242\n",
       "==============================================================================\n",
       "Skew:                         -0.6865   Kurtosis:                       3.9310\n",
       "Centered skew:                -0.6664   Centered kurtosis:              3.9656\n",
       "==============================================================================\n",
       "\"\"\""
      ]
     },
     "execution_count": 15,
     "metadata": {},
     "output_type": "execute_result"
    }
   ],
   "source": [
    "dbp_gee_model = sm.GEE.from_formula('BPXDI1 ~ RIAGENDR + RIDAGEYR + BMXBMI', 'group', cov_struct = sm.cov_struct.Exchangeable(), \n",
    "                         data = df) # adding sex, age, and BMI as explanatory variables\n",
    "dbp_gee_model_results = dbp_gee_model.fit() # estimate model parameters\n",
    "dbp_gee_model_results.summary()"
   ]
  },
  {
   "cell_type": "markdown",
   "metadata": {},
   "source": [
    "__Q2a.__ What is the ICC for this model?  What can you conclude by comparing it to the ICC for the model that you fit in question 1?"
   ]
  },
  {
   "cell_type": "code",
   "execution_count": 16,
   "metadata": {},
   "outputs": [
    {
     "data": {
      "text/plain": [
       "'The correlation between two observations in the same cluster is 0.030'"
      ]
     },
     "execution_count": 16,
     "metadata": {},
     "output_type": "execute_result"
    }
   ],
   "source": [
    "dbp_gee_model_results.cov_struct.summary()"
   ]
  },
  {
   "cell_type": "markdown",
   "metadata": {},
   "source": [
    "Explanatory variables don't account for the ICC/ They might be approximately equally distributed across all levels of the cluster and/or when the covariates do not explain any variation in the response variable."
   ]
  },
  {
   "cell_type": "markdown",
   "metadata": {},
   "source": [
    "### Question 3.\n",
    "\n",
    "Split the data into separate datasets for females and for males and fit two separate marginal linear models for diastolic blood pressure, one only for females, and one only for males."
   ]
  },
  {
   "cell_type": "code",
   "execution_count": 19,
   "metadata": {},
   "outputs": [
    {
     "name": "stdout",
     "output_type": "stream",
     "text": [
      "Sex=Male\n",
      "                               GEE Regression Results                              \n",
      "===================================================================================\n",
      "Dep. Variable:                      BPXDI1   No. Observations:                 2462\n",
      "Model:                                 GEE   No. clusters:                       30\n",
      "Method:                        Generalized   Min. cluster size:                  38\n",
      "                      Estimating Equations   Max. cluster size:                 111\n",
      "Family:                           Gaussian   Mean cluster size:                82.1\n",
      "Dependence structure:         Exchangeable   Num. iterations:                     7\n",
      "Date:                     Fri, 08 Nov 2024   Scale:                         173.641\n",
      "Covariance type:                    robust   Time:                         19:29:42\n",
      "==============================================================================\n",
      "                 coef    std err          z      P>|z|      [0.025      0.975]\n",
      "------------------------------------------------------------------------------\n",
      "Intercept     66.8949      1.751     38.210      0.000      63.464      70.326\n",
      "RIDAGEYR      -0.0661      0.017     -3.947      0.000      -0.099      -0.033\n",
      "BMXBMI         0.2652      0.055      4.846      0.000       0.158       0.372\n",
      "==============================================================================\n",
      "Skew:                         -0.7533   Kurtosis:                       4.0786\n",
      "Centered skew:                -0.7013   Centered kurtosis:              4.0070\n",
      "==============================================================================\n",
      "Sex=Female\n",
      "                               GEE Regression Results                              \n",
      "===================================================================================\n",
      "Dep. Variable:                      BPXDI1   No. Observations:                 2640\n",
      "Model:                                 GEE   No. clusters:                       30\n",
      "Method:                        Generalized   Min. cluster size:                  59\n",
      "                      Estimating Equations   Max. cluster size:                 125\n",
      "Family:                           Gaussian   Mean cluster size:                88.0\n",
      "Dependence structure:         Exchangeable   Num. iterations:                     8\n",
      "Date:                     Fri, 08 Nov 2024   Scale:                         143.982\n",
      "Covariance type:                    robust   Time:                         19:29:42\n",
      "==============================================================================\n",
      "                 coef    std err          z      P>|z|      [0.025      0.975]\n",
      "------------------------------------------------------------------------------\n",
      "Intercept     65.7505      1.348     48.778      0.000      63.109      68.392\n",
      "RIDAGEYR      -0.0192      0.019     -0.998      0.318      -0.057       0.019\n",
      "BMXBMI         0.1324      0.030      4.374      0.000       0.073       0.192\n",
      "==============================================================================\n",
      "Skew:                         -0.6088   Kurtosis:                       3.6004\n",
      "Centered skew:                -0.5958   Centered kurtosis:              3.6229\n",
      "==============================================================================\n"
     ]
    }
   ],
   "source": [
    "for gen, subset in df.groupby('RIAGENDR'):\n",
    "    gee_model_gender = sm.GEE.from_formula('BPXDI1 ~ RIDAGEYR + BMXBMI', 'group', \n",
    "                             cov_struct = sm.cov_struct.Exchangeable(), data = subset) \n",
    "    gee_model_gender_results = gee_model_gender.fit()\n",
    "    print('Sex=%s' % {1: 'Male', 2: 'Female'}[gen])\n",
    "    print(gee_model_gender_results.summary()) # fit a gee model for each gender and display results"
   ]
  },
  {
   "cell_type": "markdown",
   "metadata": {},
   "source": [
    "__Q3a.__ What do you learn by comparing these two fitted models?"
   ]
  },
  {
   "cell_type": "markdown",
   "metadata": {},
   "source": [
    "The association between BMI and diastolic blood pressure is **stronger for males** than for females (0.2652 against 0.1324). Age is not a statistically significant predictor of diastolic blood pressure for females."
   ]
  },
  {
   "cell_type": "markdown",
   "metadata": {},
   "source": [
    "### Question 4.\n",
    "\n",
    "Using the entire data set, fit a multilevel model for diastolic blood pressure, predicted by age, gender, BMI, and educational attainment.  Include a random intercept for groups."
   ]
  },
  {
   "cell_type": "code",
   "execution_count": 21,
   "metadata": {},
   "outputs": [
    {
     "data": {
      "text/html": [
       "<table class=\"simpletable\">\n",
       "<tr>\n",
       "       <td>Model:</td>       <td>MixedLM</td> <td>Dependent Variable:</td>   <td>BPXDI1</td>   \n",
       "</tr>\n",
       "<tr>\n",
       "  <td>No. Observations:</td>  <td>5102</td>         <td>Method:</td>          <td>REML</td>    \n",
       "</tr>\n",
       "<tr>\n",
       "     <td>No. Groups:</td>      <td>30</td>          <td>Scale:</td>         <td>155.7897</td>  \n",
       "</tr>\n",
       "<tr>\n",
       "  <td>Min. group size:</td>    <td>106</td>     <td>Log-Likelihood:</td>   <td>-20145.7435</td>\n",
       "</tr>\n",
       "<tr>\n",
       "  <td>Max. group size:</td>    <td>226</td>       <td>Converged:</td>          <td>Yes</td>    \n",
       "</tr>\n",
       "<tr>\n",
       "  <td>Mean group size:</td>   <td>170.1</td>           <td></td>                <td></td>      \n",
       "</tr>\n",
       "</table>\n",
       "<table class=\"simpletable\">\n",
       "<tr>\n",
       "      <td></td>       <th>Coef.</th> <th>Std.Err.</th>    <th>z</th>   <th>P>|z|</th> <th>[0.025</th> <th>0.975]</th>\n",
       "</tr>\n",
       "<tr>\n",
       "  <th>Intercept</th> <td>75.852</td>   <td>0.843</td>  <td>90.006</td> <td>0.000</td> <td>74.200</td> <td>77.504</td>\n",
       "</tr>\n",
       "<tr>\n",
       "  <th>RIDAGEYR</th>  <td>-0.040</td>   <td>0.010</td>  <td>-3.997</td> <td>0.000</td> <td>-0.060</td> <td>-0.021</td>\n",
       "</tr>\n",
       "<tr>\n",
       "  <th>RIAGENDR</th>  <td>-2.545</td>   <td>0.351</td>  <td>-7.258</td> <td>0.000</td> <td>-3.232</td> <td>-1.857</td>\n",
       "</tr>\n",
       "<tr>\n",
       "  <th>group Var</th>  <td>4.082</td>   <td>0.105</td>     <td></td>      <td></td>       <td></td>       <td></td>   \n",
       "</tr>\n",
       "</table><br/>\n"
      ],
      "text/latex": [
       "\\begin{table}\n",
       "\\caption{Mixed Linear Model Regression Results}\n",
       "\\label{}\n",
       "\\begin{center}\n",
       "\\begin{tabular}{llll}\n",
       "\\hline\n",
       "Model:            & MixedLM & Dependent Variable: & BPXDI1       \\\\\n",
       "No. Observations: & 5102    & Method:             & REML         \\\\\n",
       "No. Groups:       & 30      & Scale:              & 155.7897     \\\\\n",
       "Min. group size:  & 106     & Log-Likelihood:     & -20145.7435  \\\\\n",
       "Max. group size:  & 226     & Converged:          & Yes          \\\\\n",
       "Mean group size:  & 170.1   &                     &              \\\\\n",
       "\\hline\n",
       "\\end{tabular}\n",
       "\\end{center}\n",
       "\n",
       "\\begin{center}\n",
       "\\begin{tabular}{lrrrrrr}\n",
       "\\hline\n",
       "          &  Coef. & Std.Err. &      z & P$> |$z$|$ & [0.025 & 0.975]  \\\\\n",
       "\\hline\n",
       "Intercept & 75.852 &    0.843 & 90.006 &       0.000 & 74.200 & 77.504  \\\\\n",
       "RIDAGEYR  & -0.040 &    0.010 & -3.997 &       0.000 & -0.060 & -0.021  \\\\\n",
       "RIAGENDR  & -2.545 &    0.351 & -7.258 &       0.000 & -3.232 & -1.857  \\\\\n",
       "group Var &  4.082 &    0.105 &        &             &        &         \\\\\n",
       "\\hline\n",
       "\\end{tabular}\n",
       "\\end{center}\n",
       "\\end{table}\n",
       "\\bigskip\n"
      ],
      "text/plain": [
       "<class 'statsmodels.iolib.summary2.Summary'>\n",
       "\"\"\"\n",
       "          Mixed Linear Model Regression Results\n",
       "=========================================================\n",
       "Model:            MixedLM Dependent Variable: BPXDI1     \n",
       "No. Observations: 5102    Method:             REML       \n",
       "No. Groups:       30      Scale:              155.7897   \n",
       "Min. group size:  106     Log-Likelihood:     -20145.7435\n",
       "Max. group size:  226     Converged:          Yes        \n",
       "Mean group size:  170.1                                  \n",
       "----------------------------------------------------------\n",
       "           Coef.   Std.Err.    z     P>|z|  [0.025  0.975]\n",
       "----------------------------------------------------------\n",
       "Intercept  75.852     0.843  90.006  0.000  74.200  77.504\n",
       "RIDAGEYR   -0.040     0.010  -3.997  0.000  -0.060  -0.021\n",
       "RIAGENDR   -2.545     0.351  -7.258  0.000  -3.232  -1.857\n",
       "group Var   4.082     0.105                               \n",
       "=========================================================\n",
       "\n",
       "\"\"\""
      ]
     },
     "execution_count": 21,
     "metadata": {},
     "output_type": "execute_result"
    }
   ],
   "source": [
    "multilevel_model = sm.MixedLM.from_formula('BPXDI1 ~ RIDAGEYR + RIAGENDR', \n",
    "                                           groups = 'group', data = df) # define a multilevel model with age and gender as predictors\n",
    "multilevel_model_results = multilevel_model.fit() # estimate model parameters\n",
    "multilevel_model_results.summary()"
   ]
  },
  {
   "cell_type": "markdown",
   "metadata": {},
   "source": [
    "Both variables are statistically significant predictors of the outcome variable `BPXDI1`. Age has a negative and small effect on the outcome variable. Gender also shows a negative effect on the response.\n",
    "\n",
    "The variability in the outcome across different groups is about 4.0, i.e. there is variation in the outcome variable between groups, which justifies using a multilevel model to account for this clustering effect."
   ]
  },
  {
   "cell_type": "markdown",
   "metadata": {},
   "source": [
    "__Q4a:__ Include a random intercept for age, and describe your findings."
   ]
  },
  {
   "cell_type": "code",
   "execution_count": 23,
   "metadata": {},
   "outputs": [
    {
     "name": "stderr",
     "output_type": "stream",
     "text": [
      "/opt/conda/lib/python3.11/site-packages/statsmodels/base/model.py:607: ConvergenceWarning: Maximum Likelihood optimization failed to converge. Check mle_retvals\n",
      "  warnings.warn(\"Maximum Likelihood optimization failed to \"\n",
      "/opt/conda/lib/python3.11/site-packages/statsmodels/regression/mixed_linear_model.py:2207: ConvergenceWarning: MixedLM optimization failed, trying a different optimizer may help.\n",
      "  warnings.warn(msg, ConvergenceWarning)\n",
      "/opt/conda/lib/python3.11/site-packages/statsmodels/regression/mixed_linear_model.py:2219: ConvergenceWarning: Gradient optimization failed, |grad| = 1722.724148\n",
      "  warnings.warn(msg, ConvergenceWarning)\n",
      "/opt/conda/lib/python3.11/site-packages/statsmodels/regression/mixed_linear_model.py:2238: ConvergenceWarning: The MLE may be on the boundary of the parameter space.\n",
      "  warnings.warn(msg, ConvergenceWarning)\n"
     ]
    },
    {
     "data": {
      "text/html": [
       "<table class=\"simpletable\">\n",
       "<tr>\n",
       "       <td>Model:</td>       <td>MixedLM</td> <td>Dependent Variable:</td>   <td>BPXDI1</td>   \n",
       "</tr>\n",
       "<tr>\n",
       "  <td>No. Observations:</td>  <td>5102</td>         <td>Method:</td>          <td>REML</td>    \n",
       "</tr>\n",
       "<tr>\n",
       "     <td>No. Groups:</td>      <td>30</td>          <td>Scale:</td>         <td>154.8623</td>  \n",
       "</tr>\n",
       "<tr>\n",
       "  <td>Min. group size:</td>    <td>106</td>     <td>Log-Likelihood:</td>   <td>-20144.4657</td>\n",
       "</tr>\n",
       "<tr>\n",
       "  <td>Max. group size:</td>    <td>226</td>       <td>Converged:</td>          <td>No</td>     \n",
       "</tr>\n",
       "<tr>\n",
       "  <td>Mean group size:</td>   <td>170.1</td>           <td></td>                <td></td>      \n",
       "</tr>\n",
       "</table>\n",
       "<table class=\"simpletable\">\n",
       "<tr>\n",
       "          <td></td>          <th>Coef.</th> <th>Std.Err.</th>    <th>z</th>   <th>P>|z|</th> <th>[0.025</th> <th>0.975]</th>\n",
       "</tr>\n",
       "<tr>\n",
       "  <th>Intercept</th>        <td>75.648</td>   <td>0.845</td>  <td>89.537</td> <td>0.000</td> <td>73.992</td> <td>77.304</td>\n",
       "</tr>\n",
       "<tr>\n",
       "  <th>RIDAGEYR</th>         <td>-0.035</td>   <td>0.013</td>  <td>-2.671</td> <td>0.008</td> <td>-0.061</td> <td>-0.009</td>\n",
       "</tr>\n",
       "<tr>\n",
       "  <th>RIAGENDR</th>         <td>-2.522</td>   <td>0.350</td>  <td>-7.210</td> <td>0.000</td> <td>-3.208</td> <td>-1.837</td>\n",
       "</tr>\n",
       "<tr>\n",
       "  <th>group Var</th>         <td>4.041</td>   <td>0.254</td>     <td></td>      <td></td>       <td></td>       <td></td>   \n",
       "</tr>\n",
       "<tr>\n",
       "  <th>RIDAGEYR_cen Var</th>  <td>0.002</td>   <td>0.000</td>     <td></td>      <td></td>       <td></td>       <td></td>   \n",
       "</tr>\n",
       "</table><br/>\n"
      ],
      "text/latex": [
       "\\begin{table}\n",
       "\\caption{Mixed Linear Model Regression Results}\n",
       "\\label{}\n",
       "\\begin{center}\n",
       "\\begin{tabular}{llll}\n",
       "\\hline\n",
       "Model:            & MixedLM & Dependent Variable: & BPXDI1       \\\\\n",
       "No. Observations: & 5102    & Method:             & REML         \\\\\n",
       "No. Groups:       & 30      & Scale:              & 154.8623     \\\\\n",
       "Min. group size:  & 106     & Log-Likelihood:     & -20144.4657  \\\\\n",
       "Max. group size:  & 226     & Converged:          & No           \\\\\n",
       "Mean group size:  & 170.1   &                     &              \\\\\n",
       "\\hline\n",
       "\\end{tabular}\n",
       "\\end{center}\n",
       "\n",
       "\\begin{center}\n",
       "\\begin{tabular}{lrrrrrr}\n",
       "\\hline\n",
       "                  &  Coef. & Std.Err. &      z & P$> |$z$|$ & [0.025 & 0.975]  \\\\\n",
       "\\hline\n",
       "Intercept         & 75.648 &    0.845 & 89.537 &       0.000 & 73.992 & 77.304  \\\\\n",
       "RIDAGEYR          & -0.035 &    0.013 & -2.671 &       0.008 & -0.061 & -0.009  \\\\\n",
       "RIAGENDR          & -2.522 &    0.350 & -7.210 &       0.000 & -3.208 & -1.837  \\\\\n",
       "group Var         &  4.041 &    0.254 &        &             &        &         \\\\\n",
       "RIDAGEYR\\_cen Var &  0.002 &    0.000 &        &             &        &         \\\\\n",
       "\\hline\n",
       "\\end{tabular}\n",
       "\\end{center}\n",
       "\\end{table}\n",
       "\\bigskip\n"
      ],
      "text/plain": [
       "<class 'statsmodels.iolib.summary2.Summary'>\n",
       "\"\"\"\n",
       "           Mixed Linear Model Regression Results\n",
       "===========================================================\n",
       "Model:              MixedLM Dependent Variable: BPXDI1     \n",
       "No. Observations:   5102    Method:             REML       \n",
       "No. Groups:         30      Scale:              154.8623   \n",
       "Min. group size:    106     Log-Likelihood:     -20144.4657\n",
       "Max. group size:    226     Converged:          No         \n",
       "Mean group size:    170.1                                  \n",
       "-----------------------------------------------------------\n",
       "                 Coef.  Std.Err.   z    P>|z| [0.025 0.975]\n",
       "-----------------------------------------------------------\n",
       "Intercept        75.648    0.845 89.537 0.000 73.992 77.304\n",
       "RIDAGEYR         -0.035    0.013 -2.671 0.008 -0.061 -0.009\n",
       "RIAGENDR         -2.522    0.350 -7.210 0.000 -3.208 -1.837\n",
       "group Var         4.041    0.254                           \n",
       "RIDAGEYR_cen Var  0.002    0.000                           \n",
       "===========================================================\n",
       "\n",
       "\"\"\""
      ]
     },
     "execution_count": 23,
     "metadata": {},
     "output_type": "execute_result"
    }
   ],
   "source": [
    "df['RIDAGEYR_cen'] = (df['RIDAGEYR'] - df['RIDAGEYR'].mean()) / 10 # create a center version of age variable\n",
    "multilevel_model = sm.MixedLM.from_formula('BPXDI1 ~ RIDAGEYR + RIAGENDR', groups = 'group', re_formula = '1', \n",
    "                              vc_formula = {'RIDAGEYR_cen': '0+RIDAGEYR'}, data = df) # variance component allows each group to have its own random effect\n",
    "multilevel_model_results = multilevel_model.fit(method = 'lbfgs') # estimate model parameters\n",
    "multilevel_model_results.summary()"
   ]
  },
  {
   "cell_type": "markdown",
   "metadata": {},
   "source": [
    "Both variables are statistically significant predictors of the outcome variable `BPXDI1`. There is little evidence that different groups have different age slopes since `RIDAGEYR_cen Var = 0.002` (the impact of age on the response variable doesn’t vary much between different groups). "
   ]
  },
  {
   "cell_type": "markdown",
   "metadata": {},
   "source": [
    "**Note**: After centering, the intercept is no longer tied to `RIDAGEYR = 0` but instead **translates to the mean value of the age variable**, giving us a more intuitive baseline."
   ]
  }
 ],
 "metadata": {
  "kernelspec": {
   "display_name": "Python 3 (ipykernel)",
   "language": "python",
   "name": "python3"
  },
  "language_info": {
   "codemirror_mode": {
    "name": "ipython",
    "version": 3
   },
   "file_extension": ".py",
   "mimetype": "text/x-python",
   "name": "python",
   "nbconvert_exporter": "python",
   "pygments_lexer": "ipython3",
   "version": "3.11.4"
  }
 },
 "nbformat": 4,
 "nbformat_minor": 1
}
